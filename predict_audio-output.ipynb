{
 "cells": [
  {
   "cell_type": "markdown",
   "id": "f2fab2af",
   "metadata": {},
   "source": [
    "# Predicting the labels for a given image and Generating an audio output"
   ]
  },
  {
   "cell_type": "markdown",
   "id": "d85dc873",
   "metadata": {},
   "source": [
    "## Installing dependencies (if not done yet)"
   ]
  },
  {
   "cell_type": "markdown",
   "id": "5cc45616",
   "metadata": {},
   "source": [
    "Installing `ultralytics` for loading model to predict"
   ]
  },
  {
   "cell_type": "code",
   "execution_count": 1,
   "id": "f2216fea-3c0b-4dc7-adb9-597cc1a7988a",
   "metadata": {
    "tags": []
   },
   "outputs": [],
   "source": [
    "! pip install ultralytics"
   ]
  },
  {
   "cell_type": "markdown",
   "id": "789ce3a1",
   "metadata": {},
   "source": [
    "Installing `gtts` for translating the predictions to speech"
   ]
  },
  {
   "cell_type": "code",
   "execution_count": null,
   "id": "fde1254e-87a5-40fe-adc5-cd1a6dd3f2a1",
   "metadata": {
    "tags": []
   },
   "outputs": [],
   "source": [
    "# ! pip install gtts"
   ]
  },
  {
   "cell_type": "markdown",
   "id": "fe7daea0",
   "metadata": {},
   "source": [
    "Installing `mplayer` for playing the mp3 audio file saved by `gtts` (linux only)"
   ]
  },
  {
   "cell_type": "code",
   "execution_count": null,
   "id": "b79d1298-852d-4288-938e-15c1b910e33c",
   "metadata": {
    "tags": []
   },
   "outputs": [],
   "source": [
    "# ! sudo apt install mplayer"
   ]
  },
  {
   "cell_type": "markdown",
   "id": "92e6f744",
   "metadata": {},
   "source": [
    "## Making predictoins and playing audio output"
   ]
  },
  {
   "cell_type": "code",
   "execution_count": 41,
   "id": "2de110a9-cf64-404a-ae53-d6154250aa25",
   "metadata": {},
   "outputs": [],
   "source": [
    "import os\n",
    "from gtts import gTTS\n",
    "\n",
    "def speak(text):\n",
    "    tts = gTTS(text=text, lang='en')\n",
    "\n",
    "    filename = \"abc.mp3\"\n",
    "    tts.save(filename)\n",
    "    os.system(\"mplayer abc.mp3\")\n",
    "    # os.remove(\"abc.mp3\")"
   ]
  },
  {
   "cell_type": "code",
   "execution_count": 44,
   "id": "7390e370-1fed-4430-bdeb-6ec526bd4f62",
   "metadata": {
    "tags": []
   },
   "outputs": [],
   "source": [
    "def no_occurances(list, x):\n",
    "    filtered_list = [i for i in list if i==x]\n",
    "    return len(filtered_list)\n",
    "\n",
    "def generate_string(no_labels, word):\n",
    "    if no_labels:\n",
    "        if no_labels==1:\n",
    "            return str(no_labels) + \" \" + word + \" \"\n",
    "        else:\n",
    "            return str(no_labels) + \" \" + word + \"s \" \n",
    "    return \"\"\n",
    "\n",
    "def check_label(label_list):\n",
    "    no_of_occurances_pothole = no_occurances(label_list, 1.0)\n",
    "    no_of_occurances_light_pole = no_occurances(label_list, 0.0)\n",
    "    no_of_occurances_stalls = no_occurances(label_list, 2.0)\n",
    "    no_of_occurances_vehicle = no_occurances(label_list, 3.0)\n",
    "    \n",
    "    output_string = \"Spotted obstacles are - \"\n",
    "    output_string += generate_string(no_of_occurances_pothole, \"pothole\")\n",
    "    output_string += generate_string(no_of_occurances_light_pole, \"light pole\")\n",
    "    output_string += generate_string(no_of_occurances_stalls, \"roadside stall\")\n",
    "    output_string += generate_string(no_of_occurances_light_pole, \"vehicle\")\n",
    "    output_string += \".\"\n",
    "    \n",
    "    speak(output_string)"
   ]
  },
  {
   "cell_type": "code",
   "execution_count": null,
   "id": "f950b31b-7a19-4aef-b369-b6f4ef178549",
   "metadata": {
    "tags": []
   },
   "outputs": [],
   "source": [
    "from ultralytics import YOLO\n",
    "from PIL import Image\n",
    "import cv2, os\n",
    "\n",
    "# print(os.getcwd())\n",
    "model = YOLO(\"yolov8n_weights_custom_v2.pt\")\n",
    "# accepts all formats - image/dir/Path/URL/video/PIL/ndarray. 0 for webcam\n",
    "def predict(file):\n",
    "    # from ndarray\n",
    "    im2 = cv2.imread(file)\n",
    "    results = model.predict(source=im2)  # save predictions as labels\n",
    "    for result in results:\n",
    "        check_label(result.boxes.cls.tolist())\n"
   ]
  },
  {
   "cell_type": "code",
   "execution_count": null,
   "id": "c38e439f-efa4-4dae-9c00-9f897f4dc8d9",
   "metadata": {
    "tags": []
   },
   "outputs": [],
   "source": [
    "predict(input(\"Enter image path: \"))"
   ]
  }
 ],
 "metadata": {
  "kernelspec": {
   "display_name": "sagemaker-distribution:Python",
   "language": "python",
   "name": "conda-env-sagemaker-distribution-py"
  },
  "language_info": {
   "codemirror_mode": {
    "name": "ipython",
    "version": 3
   },
   "file_extension": ".py",
   "mimetype": "text/x-python",
   "name": "python",
   "nbconvert_exporter": "python",
   "pygments_lexer": "ipython3",
   "version": "3.10.14"
  }
 },
 "nbformat": 4,
 "nbformat_minor": 5
}
