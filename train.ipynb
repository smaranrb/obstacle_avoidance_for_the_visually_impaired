{
 "cells": [
  {
   "cell_type": "markdown",
   "id": "daa930dd-8420-4723-b8c4-4d2b8e610d53",
   "metadata": {},
   "source": [
    "# Training YOLO object detection models"
   ]
  },
  {
   "cell_type": "markdown",
   "id": "d2eb5fdf-ec50-4c0f-9454-522bb2db3329",
   "metadata": {
    "tags": []
   },
   "source": [
    "## Install dependencies (you can do these on command line too)"
   ]
  },
  {
   "cell_type": "markdown",
   "id": "3034430e-6ff1-497a-be74-f6d62e9b54a7",
   "metadata": {},
   "source": [
    "### Install `ultralyics` library to load any pre-trained `YOLOv<>` weights"
   ]
  },
  {
   "cell_type": "code",
   "execution_count": null,
   "id": "25fd763a-c2ac-449e-a96f-1c8d0dcd7458",
   "metadata": {},
   "outputs": [],
   "source": [
    "# ! pip install ultralytics"
   ]
  },
  {
   "cell_type": "markdown",
   "id": "53b1c09c-45ad-473a-9ce1-caaed4154f43",
   "metadata": {},
   "source": [
    "### (Optional) Install `clearml` library to automatically track and monitor our training results"
   ]
  },
  {
   "cell_type": "markdown",
   "id": "3e7946e9-eb20-47ce-b62b-0870dece8be3",
   "metadata": {
    "tags": []
   },
   "source": [
    "1. Create a ClearML account by visiting https://clear.ml/\n",
    "2. Once your account is setup, go to Settings(found by clicking the account icon) → Workspace and click on **Create new credentials**\n",
    "3. Copy the API key given"
   ]
  },
  {
   "cell_type": "code",
   "execution_count": null,
   "id": "3423540f-38b3-4df9-820c-50b209e84207",
   "metadata": {},
   "outputs": [],
   "source": [
    "# ! pip install clearml\n",
    "# ! clearml-init"
   ]
  },
  {
   "cell_type": "markdown",
   "id": "6f043e44-9ad3-4151-83c4-cf00363dafea",
   "metadata": {
    "tags": []
   },
   "source": [
    "In the above cell, you will be prompted to enter your API key. Paste the API key into the field"
   ]
  },
  {
   "cell_type": "markdown",
   "id": "263a1e8d-aa40-48da-b17e-36151639acf5",
   "metadata": {},
   "source": [
    "### (if running on command line) Install `libglib` module for the model to run"
   ]
  },
  {
   "cell_type": "code",
   "execution_count": null,
   "id": "a268814e-e36e-44d7-ab6c-9b012c3335ba",
   "metadata": {},
   "outputs": [],
   "source": [
    "# ! conda install libglib"
   ]
  },
  {
   "cell_type": "markdown",
   "id": "50384a67-c6d2-4347-b92b-24f4c4e2f9da",
   "metadata": {},
   "source": [
    "## Creating the YAML file for the dataset"
   ]
  },
  {
   "cell_type": "markdown",
   "id": "0032b675-53a9-4862-88e1-4dd859ae45c9",
   "metadata": {},
   "source": [
    "Once the dataset is loaded in the datasets directory, we need to create a YAML file to define the paths to the images and the class names.  \n",
    "It is suggested that the YAML file be created in the same directory as this notebook, otherwise you will have to manually enter the path down the lane "
   ]
  },
  {
   "cell_type": "markdown",
   "id": "fdd3ecb6-ef1b-49fe-b14f-88f181c49b53",
   "metadata": {},
   "source": [
    "The file contents should be similar to the following:\n",
    "```\n",
    "path: <directory name of the dataset>/\n",
    "\n",
    "# depending on your test-train-validation split, mention the directory names under which your test/train/validation images are present\n",
    "train: 'train/images' # replace 'train' with the directory name containing your training images\n",
    "val: 'valid/images' # replace 'valid' with the directory name containing your validation images\n",
    " \n",
    "# class names\n",
    "names: \n",
    "  0: 'class_0'  \n",
    "  1: 'class_1'\n",
    "  2: 'class_2'\n",
    "  ...\n",
    "```"
   ]
  },
  {
   "cell_type": "markdown",
   "id": "abb0c42c-ba08-4bd1-8c12-71efb73c7dee",
   "metadata": {},
   "source": [
    "## Training the YOLO model"
   ]
  },
  {
   "cell_type": "code",
   "execution_count": null,
   "id": "0fc042a8-c102-41a4-8ed7-0c1cfee0db5f",
   "metadata": {},
   "outputs": [],
   "source": [
    "from ultralytics import YOLO\n",
    " \n",
    "# Load the model.\n",
    "model = YOLO('yolov8n.pt') # Enter your YOLO model of choice here, we have gone with yolov8n - yolov8 nano\n",
    " \n",
    "# Training.\n",
    "results = model.train(\n",
    "   data='dataset.yaml', # Enter the path/name of your YAML file  \n",
    "   imgsz=640, # You could go with 1280 for more accurate results, although model size may increase\n",
    "   epochs=50, # You can change the number of epochs the model trains for here\n",
    "   batch=16,\n",
    "   name='yolov8n_v8_50e' # you can change the output model's name here\n",
    ")"
   ]
  },
  {
   "cell_type": "markdown",
   "id": "132f3f40-98ef-4610-9312-948c52682c70",
   "metadata": {},
   "source": [
    "Alternatively, you can also train in command line:\n",
    "\n",
    "`yolo task=detect mode=train model=yolov8n.pt imgsz=640 data=dataset.yaml epochs=100 batch=16 name=yolov8n_v8_50e`\n",
    "\n",
    "Make sure you replace the fields `model`, `imgz`, `data`, `epochs`, `batch` and `name` accordingly\n",
    "\n",
    "> **Note:** For this to work, you may have to execute `conda install libglib`"
   ]
  },
  {
   "cell_type": "markdown",
   "id": "98902a97-a82e-4bee-bed7-c055a7850971",
   "metadata": {
    "tags": []
   },
   "source": [
    "Your trained model weights will be saves in the `runs/detect` directory"
   ]
  }
 ],
 "metadata": {
  "kernelspec": {
   "display_name": "sagemaker-distribution:Python",
   "language": "python",
   "name": "conda-env-sagemaker-distribution-py"
  },
  "language_info": {
   "codemirror_mode": {
    "name": "ipython",
    "version": 3
   },
   "file_extension": ".py",
   "mimetype": "text/x-python",
   "name": "python",
   "nbconvert_exporter": "python",
   "pygments_lexer": "ipython3",
   "version": "3.10.14"
  }
 },
 "nbformat": 4,
 "nbformat_minor": 5
}
